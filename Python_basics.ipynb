{
  "nbformat": 4,
  "nbformat_minor": 0,
  "metadata": {
    "colab": {
      "provenance": []
    },
    "kernelspec": {
      "name": "python3",
      "display_name": "Python 3"
    },
    "language_info": {
      "name": "python"
    }
  },
  "cells": [
    {
      "cell_type": "markdown",
      "source": [
        "**Python**\n",
        " # Theory questions\n",
        "\n",
        "1) What is Python, and why is it popular?\n",
        "\n",
        "   - Python is a high-level, interpreted programming language emphasizing readability and developer productivity. It's popular because of its simple syntax, large standard library, rich ecosystem of third-party packages, cross-platform support, suitability for many domains (web, data science, scripting, automation), and a very active community.\n",
        "\n",
        "2) What is an interpreter in Python?\n",
        "\n",
        "   - An interpreter is a program that reads and executes Python code line-by-line (or compiles to bytecode and runs it on a VM). It allows interactive execution and immediate feedback.\n",
        "\n",
        "\n",
        "3) What are pre-defined keywords in Python?\n",
        "\n",
        "   - Keywords are reserved words that have special meaning in Python (e.g., if, else, for, while, def, class, import). They cannot be used as identifiers.\n",
        "\n",
        "\n",
        "4) Can keywords be used as variable names?\n",
        "\n",
        "   - No — keywords are reserved and cannot be used as variable names.\n",
        "\n",
        "\n",
        "5) What is mutability in Python?\n",
        "\n",
        "   - Mutability describes whether an object's content can be changed after creation. Mutable objects (e.g., lists, dicts, sets) can be modified in place; immutable objects (e.g., int, float, str, tuple) cannot.\n",
        "\n",
        "\n",
        "6) Why are lists mutable, but tuples are immutable?\n",
        "\n",
        "   - Lists are designed for dynamic sequences — you can append, remove, or change elements. Tuples are fixed sequences — their immutability can make them safer as fixed records and can enable certain optimizations/hashability.\n",
        "\n",
        "\n",
        "7) What is the difference between == and is operators in Python?\n",
        "\n",
        "   - == checks value equality (do the objects have equivalent contents?). is checks identity (are they the exact same object in memory?). Example: a == b may be True even if a is b is False.\n",
        "\n",
        "\n",
        "8) What are logical operators in Python?\n",
        "\n",
        "   - and, or, and not. They combine boolean expressions and follow short-circuit evaluation rules.\n",
        "\n",
        "9) What is type casting in Python?\n",
        "\n",
        "   - Converting a value from one type to another, e.g. int(\"5\") converts the string \"5\" to the integer 5.\n",
        "\n",
        "10) Difference between implicit and explicit type casting.\n",
        "\n",
        "    - Implicit: Python automatically converts between types when safe (e.g., int + float -> float).\n",
        "\n",
        "    - Explicit: Programmer uses conversion functions like int(), float(), str() to force conversion.\n",
        "\n",
        "11) What is the purpose of conditional statements in Python?\n",
        "\n",
        "    - To execute different blocks of code depending on boolean conditions (if, elif, else).\n",
        "\n",
        "12) How does the elif statement work?\n",
        "\n",
        "    - elif (else if) provides additional conditional checks after an if. The first true condition's block runs; the rest are skipped.\n",
        "\n",
        "13) Difference between for and while loops.\n",
        "\n",
        "    - for iterates over an iterable (list, range, string, etc.) a known/finite number of times. while repeats as long as a condition is true — useful when the number of iterations isn’t predetermined.\n",
        "\n",
        "14) Scenario where a while loop is more suitable than a for loop.\n",
        "\n",
        "    - Reading input until the user types \"quit\" (unknown number of iterations). E.g., continuously prompt until a sentinel value appears.\n",
        "\n",
        "\n",
        "\n"
      ],
      "metadata": {
        "id": "qHwSt382lv4_"
      }
    },
    {
      "cell_type": "markdown",
      "source": [
        "# Practical questions:-"
      ],
      "metadata": {
        "id": "-j24Bk1Prb68"
      }
    },
    {
      "cell_type": "code",
      "execution_count": 1,
      "metadata": {
        "id": "fiMWAFJwhvv2",
        "colab": {
          "base_uri": "https://localhost:8080/"
        },
        "outputId": "4dfb9113-cd5d-437c-fc6d-4837d7c5fadf"
      },
      "outputs": [
        {
          "output_type": "stream",
          "name": "stdout",
          "text": [
            "Hello, World!\n"
          ]
        }
      ],
      "source": [
        "#1) Write a Python program to print \"Hello, World!\"\n",
        "\n",
        "print(\"Hello, World!\")\n"
      ]
    },
    {
      "cell_type": "code",
      "source": [
        "#2) Write a Python program that displays your name and age.\n",
        "name = \"Your Name\"\n",
        "age = 25  # replace with your age\n",
        "print(f\"My name is {name} and I am {22} years old.\")\n"
      ],
      "metadata": {
        "colab": {
          "base_uri": "https://localhost:8080/"
        },
        "id": "asSmdRIqsCva",
        "outputId": "a25936a3-ab52-4a72-de47-7bbd7f8bc3a0"
      },
      "execution_count": 3,
      "outputs": [
        {
          "output_type": "stream",
          "name": "stdout",
          "text": [
            "My name is Your Name and I am 22 years old.\n"
          ]
        }
      ]
    },
    {
      "cell_type": "code",
      "source": [
        "#3) Write code to print all the pre-defined keywords in Python using the keyword library.\n",
        "\n",
        "import keyword\n",
        "print(keyword.kwlist)"
      ],
      "metadata": {
        "colab": {
          "base_uri": "https://localhost:8080/"
        },
        "id": "YLP6o06Gslsd",
        "outputId": "2b3d5407-2587-4289-f4f3-fb662f97f295"
      },
      "execution_count": 4,
      "outputs": [
        {
          "output_type": "stream",
          "name": "stdout",
          "text": [
            "['False', 'None', 'True', 'and', 'as', 'assert', 'async', 'await', 'break', 'class', 'continue', 'def', 'del', 'elif', 'else', 'except', 'finally', 'for', 'from', 'global', 'if', 'import', 'in', 'is', 'lambda', 'nonlocal', 'not', 'or', 'pass', 'raise', 'return', 'try', 'while', 'with', 'yield']\n"
          ]
        }
      ]
    },
    {
      "cell_type": "code",
      "source": [
        "#4) Write a program that checks if a given word is a Python keyword.\n",
        "\n",
        "import keyword\n",
        "\n",
        "def is_keyword(word):\n",
        "    return keyword.iskeyword(word)\n",
        "\n",
        "# Example\n",
        "word =(\"For\").strip()\n",
        "if is_keyword(word):\n",
        "    print(f\"'{word}' is a Python keyword.\")\n",
        "else:\n",
        "    print(f\"'{word}' is NOT a Python keyword.\")\n"
      ],
      "metadata": {
        "colab": {
          "base_uri": "https://localhost:8080/"
        },
        "id": "DSmEm_WPtxU3",
        "outputId": "17c22166-1244-46b9-e288-a8136f87a101"
      },
      "execution_count": 31,
      "outputs": [
        {
          "output_type": "stream",
          "name": "stdout",
          "text": [
            "'For' is NOT a Python keyword.\n"
          ]
        }
      ]
    },
    {
      "cell_type": "code",
      "source": [
        "#5)  Create a list and tuple in Python, and demonstrate how attempting to change an element works differently for each.\n",
        "\n",
        "# List (mutable)\n",
        "my_list = [1, 2, 3]\n",
        "print(\"Before list change:\", my_list)\n",
        "my_list[0] = 10\n",
        "print(\"After list change:\", my_list)  # changed in place"
      ],
      "metadata": {
        "colab": {
          "base_uri": "https://localhost:8080/"
        },
        "id": "2dUOEmlfwFSb",
        "outputId": "80605850-298e-4d7e-d00c-8a72354f9151"
      },
      "execution_count": 9,
      "outputs": [
        {
          "output_type": "stream",
          "name": "stdout",
          "text": [
            "Before list change: [1, 2, 3]\n",
            "After list change: [10, 2, 3]\n"
          ]
        }
      ]
    },
    {
      "cell_type": "code",
      "source": [
        "# Tuple (immutable)\n",
        "my_tuple = (1, 2, 3)\n",
        "print(\"Tuple:\", my_tuple)\n",
        "try:\n",
        "    my_tuple[0] = 10\n",
        "except TypeError as e:\n",
        "    print(\"Trying to modify tuple raised:\", e)"
      ],
      "metadata": {
        "colab": {
          "base_uri": "https://localhost:8080/"
        },
        "id": "pyoHFxRkwtF4",
        "outputId": "9c484093-28a7-41d1-ad8c-23d38e6f6c40"
      },
      "execution_count": 10,
      "outputs": [
        {
          "output_type": "stream",
          "name": "stdout",
          "text": [
            "Tuple: (1, 2, 3)\n",
            "Trying to modify tuple raised: 'tuple' object does not support item assignment\n"
          ]
        }
      ]
    },
    {
      "cell_type": "code",
      "source": [
        "# To 'change' a tuple you must create a new tuple\n",
        "new_tuple = (10,) + my_tuple[1:]\n",
        "print(\"New tuple:\", new_tuple)"
      ],
      "metadata": {
        "colab": {
          "base_uri": "https://localhost:8080/"
        },
        "id": "q8rXNtOQxiZ4",
        "outputId": "fda4b9bf-2c98-4c54-de44-d322647545d6"
      },
      "execution_count": 11,
      "outputs": [
        {
          "output_type": "stream",
          "name": "stdout",
          "text": [
            "New tuple: (10, 2, 3)\n"
          ]
        }
      ]
    },
    {
      "cell_type": "code",
      "source": [
        "#6) Write a function to demonstrate the behavior of mutable and immutable arguments.\n",
        "# 6.\n",
        "def mutate_list(a_list):\n",
        "    a_list.append(\"added\")\n",
        "    print(\"Inside mutate_list:\", a_list)\n",
        "\n",
        "def reassign_integer(x):\n",
        "    x = x + 10\n",
        "    print(\"Inside reassign_integer:\", x)\n",
        "\n",
        "lst = [1,2]\n",
        "print(\"Before mutate_list:\", lst)\n",
        "mutate_list(lst)\n",
        "print(\"After mutate_list:\", lst)  # changed\n",
        "\n",
        "num = 5\n",
        "print(\"Before reassign_integer:\", num)\n",
        "reassign_integer(num)\n",
        "print(\"After reassign_integer:\", num)  # unchanged (immutable)\n"
      ],
      "metadata": {
        "colab": {
          "base_uri": "https://localhost:8080/"
        },
        "id": "o4HrpdJ5xNxu",
        "outputId": "5a67ca6a-2b90-4253-8beb-472348a65c60"
      },
      "execution_count": 14,
      "outputs": [
        {
          "output_type": "stream",
          "name": "stdout",
          "text": [
            "Before mutate_list: [1, 2]\n",
            "Inside mutate_list: [1, 2, 'added']\n",
            "After mutate_list: [1, 2, 'added']\n",
            "Before reassign_integer: 5\n",
            "Inside reassign_integer: 15\n",
            "After reassign_integer: 5\n"
          ]
        }
      ]
    },
    {
      "cell_type": "code",
      "source": [
        "#7) Write a program that performs basic arithmetic operations on two user-input numbers.\n",
        "\n",
        "# 7.\n",
        "a = 22\n",
        "b = 44\n",
        "print(\"Sum:\", a + b)\n",
        "print(\"Difference:\", a - b)\n",
        "print(\"Product:\", a * b)\n",
        "print(\"Quotient:\", a / b)\n",
        "print(\"Remainder:\", a % b)\n",
        "print(\"Power:\", a ** b)\n",
        "\n"
      ],
      "metadata": {
        "colab": {
          "base_uri": "https://localhost:8080/"
        },
        "id": "q7znVYIh-KgD",
        "outputId": "51c26ff3-7372-49a2-d293-3367ac789622"
      },
      "execution_count": 19,
      "outputs": [
        {
          "output_type": "stream",
          "name": "stdout",
          "text": [
            "Sum: 66\n",
            "Difference: -22\n",
            "Product: 968\n",
            "Quotient: 0.5\n",
            "Remainder: 22\n",
            "Power: 116572995441436549620289361494791139391860487905922101805056\n"
          ]
        }
      ]
    },
    {
      "cell_type": "code",
      "source": [
        "#8. Write a program to demonstrate the use of logical operators.\n",
        "\n",
        "x = 10\n",
        "y = 5\n",
        "z = 0\n",
        "print(\"x > y and y > z ->\", x > y and y > z)  # True and True -> True\n",
        "print(\"x < y or y > z ->\", x < y or y > z)    # False or True -> True\n",
        "print(\"not (x == y) ->\", not (x == y))        # not False -> True\n",
        "\n"
      ],
      "metadata": {
        "colab": {
          "base_uri": "https://localhost:8080/"
        },
        "id": "sLKakTsgBmU0",
        "outputId": "d5aea713-2a16-4e29-b114-7a83e8404622"
      },
      "execution_count": 20,
      "outputs": [
        {
          "output_type": "stream",
          "name": "stdout",
          "text": [
            "x > y and y > z -> True\n",
            "x < y or y > z -> True\n",
            "not (x == y) -> True\n"
          ]
        }
      ]
    },
    {
      "cell_type": "code",
      "source": [
        "def left():\n",
        "    print(\"left evaluated\")\n",
        "    return False\n",
        "\n",
        "def right():\n",
        "    print(\"right evaluated\")\n",
        "    return True\n",
        "\n",
        "print(\"left() and right():\")\n",
        "print(left() and right())  # right() not called due to short-circuit\n",
        "\n",
        "print(\"left() or right():\")\n",
        "print(left() or right())   # right() called because left is False"
      ],
      "metadata": {
        "colab": {
          "base_uri": "https://localhost:8080/"
        },
        "id": "BCKQDYEWCIYj",
        "outputId": "e85a4d1c-29a2-4ae0-e4e4-91d9ec20fe42"
      },
      "execution_count": 21,
      "outputs": [
        {
          "output_type": "stream",
          "name": "stdout",
          "text": [
            "left() and right():\n",
            "left evaluated\n",
            "False\n",
            "left() or right():\n",
            "left evaluated\n",
            "right evaluated\n",
            "True\n"
          ]
        }
      ]
    },
    {
      "cell_type": "code",
      "source": [
        "#9. Write a Python program to convert user input from string to integer, float, and boolean types.\n",
        "\n",
        "s =(\"apple\").strip()\n",
        "# Integer\n",
        "try:\n",
        "    i = int(s)\n",
        "    print(\"As int:\", i)\n",
        "except ValueError:\n",
        "    print(\"Cannot convert to int.\")\n"
      ],
      "metadata": {
        "colab": {
          "base_uri": "https://localhost:8080/"
        },
        "id": "ewZGsvn9DjqP",
        "outputId": "3fd31d22-9aea-40ff-c710-7d7dd78cd1e8"
      },
      "execution_count": 28,
      "outputs": [
        {
          "output_type": "stream",
          "name": "stdout",
          "text": [
            "Cannot convert to int.\n"
          ]
        }
      ]
    },
    {
      "cell_type": "code",
      "source": [
        "# Float\n",
        "try:\n",
        "    f = float(s)\n",
        "    print(\"As float:\", f)\n",
        "except ValueError:\n",
        "    print(\"Cannot convert to float.\")"
      ],
      "metadata": {
        "colab": {
          "base_uri": "https://localhost:8080/"
        },
        "id": "hCElXijeEOEs",
        "outputId": "9fbb38ae-556a-4c7f-b52d-01926001c547"
      },
      "execution_count": 29,
      "outputs": [
        {
          "output_type": "stream",
          "name": "stdout",
          "text": [
            "Cannot convert to float.\n"
          ]
        }
      ]
    },
    {
      "cell_type": "code",
      "source": [
        "# Boolean: explicit mapping is safer than bool(s)\n",
        "s_lower = s.lower()\n",
        "if s_lower in (\"true\", \"1\", \"yes\", \"y\", \"t\"):\n",
        "    b = True\n",
        "elif s_lower in (\"false\", \"0\", \"no\", \"n\", \"f\"):\n",
        "    b = False\n",
        "else:\n",
        "    # fallback: Python's bool(\"non-empty\") is True for any non-empty string\n",
        "    b = None\n",
        "    print(\"Cannot unambiguously convert to boolean; typical truthiness of the string would be\", bool(s))\n",
        "\n",
        "if b is not None:\n",
        "    print(\"As bool:\", b)"
      ],
      "metadata": {
        "colab": {
          "base_uri": "https://localhost:8080/"
        },
        "id": "S4iN-pWOERXd",
        "outputId": "9cf7ebfb-b502-4340-8f71-c8fe4ebd96fe"
      },
      "execution_count": 30,
      "outputs": [
        {
          "output_type": "stream",
          "name": "stdout",
          "text": [
            "Cannot unambiguously convert to boolean; typical truthiness of the string would be True\n"
          ]
        }
      ]
    },
    {
      "cell_type": "code",
      "source": [
        "#10. Write code to demonstrate type casting with list elements.\n",
        " # 10.\n",
        "lst = [\"1\", \"2.5\", \"3\"]\n",
        "print(\"Original list of strings:\", lst)\n",
        "\n",
        "# Convert to ints where possible (flooring float-like strings won't be automatic)\n",
        "converted = []\n",
        "for item in lst:\n",
        "    try:\n",
        "        converted.append(int(item))\n",
        "    except ValueError:\n",
        "        try:\n",
        "            converted.append(int(float(item)))\n",
        "        except ValueError:\n",
        "            converted.append(item)  # leave as-is\n",
        "print(\"Converted list (attempt int):\", converted)\n",
        "\n",
        "# Or convert all to floats\n",
        "floats = [float(item) for item in lst]\n",
        "print(\"Converted list to floats:\", floats)\n",
        "\n"
      ],
      "metadata": {
        "colab": {
          "base_uri": "https://localhost:8080/"
        },
        "id": "2MRUSw24E0PD",
        "outputId": "58d6d5a4-9f31-4eaa-85eb-900835009773"
      },
      "execution_count": 32,
      "outputs": [
        {
          "output_type": "stream",
          "name": "stdout",
          "text": [
            "Original list of strings: ['1', '2.5', '3']\n",
            "Converted list (attempt int): [1, 2, 3]\n",
            "Converted list to floats: [1.0, 2.5, 3.0]\n"
          ]
        }
      ]
    },
    {
      "cell_type": "code",
      "source": [
        "#11. Write a program that checks if a number is positive, negative, or zero.\n",
        "\n",
        "n = float((\"46\"))\n",
        "if n > 0:\n",
        "    print(\"Positive\")\n",
        "elif n < 0:\n",
        "    print(\"Negative\")\n",
        "else:\n",
        "    print(\"Zero\")\n"
      ],
      "metadata": {
        "colab": {
          "base_uri": "https://localhost:8080/"
        },
        "id": "n1TzMgh-Faic",
        "outputId": "b400d112-89b4-4c7e-9603-84e8e2a82f32"
      },
      "execution_count": 34,
      "outputs": [
        {
          "output_type": "stream",
          "name": "stdout",
          "text": [
            "Positive\n"
          ]
        }
      ]
    },
    {
      "cell_type": "code",
      "source": [
        "#12. Write a for loop to print numbers from 1 to 10.\n",
        "\n",
        "for i in range(1, 11):\n",
        "    print(i)\n"
      ],
      "metadata": {
        "colab": {
          "base_uri": "https://localhost:8080/"
        },
        "id": "rHBW4guBFu9W",
        "outputId": "902adea7-00c6-480b-fa63-0f23ee0cab77"
      },
      "execution_count": 35,
      "outputs": [
        {
          "output_type": "stream",
          "name": "stdout",
          "text": [
            "1\n",
            "2\n",
            "3\n",
            "4\n",
            "5\n",
            "6\n",
            "7\n",
            "8\n",
            "9\n",
            "10\n"
          ]
        }
      ]
    },
    {
      "cell_type": "code",
      "source": [
        "#13. Write a Python program to find the sum of all even numbers between 1 and 50.\n",
        "\n",
        "total = sum(i for i in range(1, 51) if i % 2 == 0)\n",
        "print(\"Sum of even numbers from 1 to 50:\", total)\n",
        "# Or:\n",
        "# total = sum(range(2, 51, 2))\n"
      ],
      "metadata": {
        "colab": {
          "base_uri": "https://localhost:8080/"
        },
        "id": "vF9G5HzhF5WH",
        "outputId": "b4dd1c7e-184b-4a73-938a-ea1cd2f2b13a"
      },
      "execution_count": 36,
      "outputs": [
        {
          "output_type": "stream",
          "name": "stdout",
          "text": [
            "Sum of even numbers from 1 to 50: 650\n"
          ]
        }
      ]
    },
    {
      "cell_type": "code",
      "source": [
        "#14. Write a program to reverse a string using a while loop.\n",
        "\n",
        "s = (\"Hello World \")\n",
        "reversed_s = \"\"\n",
        "i = len(s) - 1\n",
        "while i >= 0:\n",
        "    reversed_s += s[i]\n",
        "    i -= 1\n",
        "print(\"Reversed string:\", reversed_s)\n",
        "# (Pythonic alternative: s[::-1])\n"
      ],
      "metadata": {
        "colab": {
          "base_uri": "https://localhost:8080/"
        },
        "id": "jZ_QDO1pGGkR",
        "outputId": "f010ed20-fcc8-48ae-e68d-a51556359dee"
      },
      "execution_count": 37,
      "outputs": [
        {
          "output_type": "stream",
          "name": "stdout",
          "text": [
            "Reversed string:  dlroW olleH\n"
          ]
        }
      ]
    },
    {
      "cell_type": "code",
      "source": [
        "#15. Write a Python program to calculate the factorial of a number provided by the user using a while loop.\n",
        "\n",
        "n_input = (\"2\").strip()\n",
        "if not n_input.isdigit():\n",
        "    print(\"2\")\n",
        "else:\n",
        "    n = int(n_input)\n",
        "    result = 1\n",
        "    i = 1\n",
        "    while i <= n:\n",
        "        result *= i\n",
        "        i += 1\n",
        "    print(f\"{n}! =\", result)\n"
      ],
      "metadata": {
        "colab": {
          "base_uri": "https://localhost:8080/"
        },
        "id": "U4yLc2O5GjrJ",
        "outputId": "4e9b18ad-f099-496c-d090-a12e3bfb8a67"
      },
      "execution_count": 38,
      "outputs": [
        {
          "output_type": "stream",
          "name": "stdout",
          "text": [
            "2! = 2\n"
          ]
        }
      ]
    }
  ]
}