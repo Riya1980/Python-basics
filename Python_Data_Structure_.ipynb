{
  "nbformat": 4,
  "nbformat_minor": 0,
  "metadata": {
    "colab": {
      "provenance": [],
      "authorship_tag": "ABX9TyN5cDN7wy0sF2hnHz/GRrLX",
      "include_colab_link": true
    },
    "kernelspec": {
      "name": "python3",
      "display_name": "Python 3"
    },
    "language_info": {
      "name": "python"
    }
  },
  "cells": [
    {
      "cell_type": "markdown",
      "metadata": {
        "id": "view-in-github",
        "colab_type": "text"
      },
      "source": [
        "<a href=\"https://colab.research.google.com/github/Riya1980/Python-basics/blob/main/Python_Data_Structure_.ipynb\" target=\"_parent\"><img src=\"https://colab.research.google.com/assets/colab-badge.svg\" alt=\"Open In Colab\"/></a>"
      ]
    },
    {
      "cell_type": "markdown",
      "source": [
        "**Python** **Data** **Structure**\n",
        "\n",
        "\n",
        "1) What are data structures, and why are they important?\n",
        "     - Data structures are ways of organizing and storing data (e.g., list, tuple, set, dict).\n",
        "They are important because they make data access, storage, and processing more efficient.\n",
        "\n",
        "2) Difference between mutable and immutable data types with examples.\n",
        "\n",
        "    -Mutable: can be changed after creation (e.g., list, dict, set).\n",
        "\n",
        "    -Immutable: cannot be changed after creation (e.g., tuple, string, int).\n",
        "     - Example: l = [1,2,3]; l[0]=99   # works\n",
        "\n",
        "                   t = (1,2,3); t[0]=99   # error\n",
        "\n",
        "3) Main differences between lists and tuples in Python.\n",
        "\n",
        "   - List: mutable, slower, more flexible.\n",
        "\n",
        "    - Tuple: immutable, faster, ensures data integrity.  \n",
        "\n",
        "4) How dictionaries store data?\n",
        "\n",
        "   - Dictionaries use a hash table internally, mapping keys (hashed) to memory locations where values are stored.\n",
        "\n",
        "5) Why might you use a set instead of a list?\n",
        "\n",
        "    - Sets automatically remove duplicates.\n",
        "\n",
        "    - Faster membership checking (in).\n",
        "\n",
        "6) What is a string in Python, and how is it different from a list?\n",
        "\n",
        "   - String = sequence of characters, immutable.\n",
        "\n",
        "    - List = sequence of elements, mutable, can hold mixed data types.\n",
        "\n",
        "7) How do tuples ensure data integrity?\n",
        "\n",
        "   - They are immutable, so once created, their values cannot be altered.\n",
        "\n",
        "8) What is a hash table, and how does it relate to dictionaries?\n",
        "\n",
        "   - A hash table stores data using a hash function to map keys → values.\n",
        "   - Dictionaries in Python are implemented using hash tables.\n",
        "\n",
        "9) Can lists contain different data types in Python?\n",
        "\n",
        "   - Yes. Example: [1, \"hello\", 3.14].\n",
        "\n",
        "10) Why are strings immutable in Python?\n",
        "\n",
        "    - To save memory (string interning), ensure consistency, and allow strings to be hashable (usable as dictionary keys).\n",
        "\n",
        "11) Advantages of dictionaries over lists.\n",
        "  \n",
        "    - Direct key-based access (faster lookups).\n",
        "\n",
        "     - No need to search element by index.\n",
        "\n",
        "     - Better for representing mappings/relationships.\n",
        "\n",
        "\n",
        "12) Scenario where using a tuple is preferable over a list.\n",
        "\n",
        "    - When storing data that should not change, like coordinates (x, y) or database IDs.\n",
        "\n",
        "13) How do sets handle duplicate values in Python?\n",
        "\n",
        "    - Sets automatically remove duplicates.\n",
        "\n",
        "    s = {1,2,2,3}\n",
        "     # result: {1,2,3}\n",
        "\n",
        "14) How does the “in” keyword work differently for lists and dictionaries?\n",
        "\n",
        "    - List: checks if element exists in the list.\n",
        "\n",
        "     - Dict: checks if key exists in the dictionary.\n",
        "\n",
        "\n",
        "15) Can you modify the elements of a tuple? Explain why or why not.\n",
        "\n",
        "     - No, tuples are immutable.\n",
        "\n",
        "      -  But if a tuple contains a mutable object (like a list), that inner object can be modified.\n",
        "\n",
        "16) What is a nested dictionary, and example use case?\n",
        "\n",
        "    - A dictionary inside another dictionary.\n",
        "\n",
        "    students = {\"Alice\": {\"age\":20,\"grade\":\"A\"}}\n",
        "\n",
        "    -  Use case: storing structured data (e.g., student records).\n",
        "\n",
        "17) Time complexity of accessing elements in a dictionary.\n",
        "\n",
        "    - O(1) average case, due to hashing.\n",
        "\n",
        "18) In what situations are lists preferred over dictionaries?\n",
        "\n",
        "     - When order matters, or when storing simple sequences without key-value mapping.\n",
        "\n",
        "\n",
        "19) Why are dictionaries considered unordered, and how does that affect data retrieval?\n",
        "\n",
        "     - Traditionally, dictionaries did not guarantee order.\n",
        "      - From Python 3.7+, they preserve insertion order, but retrieval is still key-based, not index-based.\n",
        "\n",
        "20) Difference between a list and a dictionary in terms of data retrieval\n",
        "\n",
        "     - List: elements retrieved by index (position).\n",
        "\n",
        "     - Dict: elements retrieved by key (faster lookup).\n",
        "\n"
      ],
      "metadata": {
        "id": "WcAn9TAq_PpY"
      }
    },
    {
      "cell_type": "markdown",
      "source": [
        "# **Practical questions**:-"
      ],
      "metadata": {
        "id": "RbTDXHGjGTku"
      }
    },
    {
      "cell_type": "code",
      "source": [
        "#1) Create a string with your name and print it.\n",
        "\n",
        "name = \"Riya Chaudhary\"\n",
        "print(name)"
      ],
      "metadata": {
        "colab": {
          "base_uri": "https://localhost:8080/"
        },
        "id": "t-PnRNZkIHyt",
        "outputId": "dad63182-48d0-412c-990e-22770b24ce53"
      },
      "execution_count": 1,
      "outputs": [
        {
          "output_type": "stream",
          "name": "stdout",
          "text": [
            "Riya Chaudhary\n"
          ]
        }
      ]
    },
    {
      "cell_type": "code",
      "source": [
        "#2) Find the length of the string \"Hello World\"\n",
        "\n",
        "s = \"Hello World\"\n",
        "print(len(s))\n"
      ],
      "metadata": {
        "colab": {
          "base_uri": "https://localhost:8080/"
        },
        "id": "6--P1rjQIhAT",
        "outputId": "f377d637-71df-4428-8700-2813c11dc65d"
      },
      "execution_count": 2,
      "outputs": [
        {
          "output_type": "stream",
          "name": "stdout",
          "text": [
            "11\n"
          ]
        }
      ]
    },
    {
      "cell_type": "code",
      "source": [
        "#3) Slice the first 3 characters from \"Python Programming\"\n",
        "\n",
        "s = \"Python Programming\"\n",
        "print(s[:3])\n"
      ],
      "metadata": {
        "colab": {
          "base_uri": "https://localhost:8080/"
        },
        "id": "o-seZLFlIu-0",
        "outputId": "b9ec4691-95dc-4acf-cf12-8f032035013e"
      },
      "execution_count": 3,
      "outputs": [
        {
          "output_type": "stream",
          "name": "stdout",
          "text": [
            "Pyt\n"
          ]
        }
      ]
    },
    {
      "cell_type": "code",
      "source": [
        "#4) Convert \"hello\" to uppercase.\n",
        "\n",
        "s = \"hello\"\n",
        "print(s.upper())\n"
      ],
      "metadata": {
        "colab": {
          "base_uri": "https://localhost:8080/"
        },
        "id": "Fuu5r-MEI817",
        "outputId": "059f9feb-f5b0-4670-f98e-03ffbc855208"
      },
      "execution_count": 4,
      "outputs": [
        {
          "output_type": "stream",
          "name": "stdout",
          "text": [
            "HELLO\n"
          ]
        }
      ]
    },
    {
      "cell_type": "code",
      "source": [
        "#5) Replace \"apple\" with \"orange\" in \"I like apple\"\n",
        "\n",
        "s = \"I like apple\"\n",
        "print(s.replace(\"apple\", \"orange\"))\n"
      ],
      "metadata": {
        "colab": {
          "base_uri": "https://localhost:8080/"
        },
        "id": "Vef6LiK9JRm5",
        "outputId": "72e06d56-d2be-42c2-96b8-62a2f55c6dba"
      },
      "execution_count": 5,
      "outputs": [
        {
          "output_type": "stream",
          "name": "stdout",
          "text": [
            "I like orange\n"
          ]
        }
      ]
    },
    {
      "cell_type": "code",
      "source": [
        "#6) Create a list with numbers 1 to 5 and print it.\n",
        "\n",
        "numbers = [1, 2, 3, 4, 5]\n",
        "print(numbers)\n"
      ],
      "metadata": {
        "colab": {
          "base_uri": "https://localhost:8080/"
        },
        "id": "FfxFhVUkJfFR",
        "outputId": "b13c2999-cbfe-4b68-905b-bce535c0e834"
      },
      "execution_count": 6,
      "outputs": [
        {
          "output_type": "stream",
          "name": "stdout",
          "text": [
            "[1, 2, 3, 4, 5]\n"
          ]
        }
      ]
    },
    {
      "cell_type": "code",
      "source": [
        "#7) Append the number 10 to [1, 2, 3, 4]\n",
        "\n",
        "lst = [1, 2, 3, 4]\n",
        "lst.append(10)\n",
        "print(lst)\n"
      ],
      "metadata": {
        "colab": {
          "base_uri": "https://localhost:8080/"
        },
        "id": "iqe8xnCrJn3j",
        "outputId": "21b43f82-bc45-424c-bf99-4aa86ba51aa9"
      },
      "execution_count": 7,
      "outputs": [
        {
          "output_type": "stream",
          "name": "stdout",
          "text": [
            "[1, 2, 3, 4, 10]\n"
          ]
        }
      ]
    },
    {
      "cell_type": "code",
      "source": [
        "#8) Remove the number 3 from [1, 2, 3, 4, 5]\n",
        "\n",
        "lst = [1, 2, 3, 4, 5]\n",
        "lst.remove(3)\n",
        "print(lst)\n"
      ],
      "metadata": {
        "colab": {
          "base_uri": "https://localhost:8080/"
        },
        "id": "V2TPQm9RJ0Nw",
        "outputId": "72d1790f-c477-48be-817a-a7fc19c4e152"
      },
      "execution_count": 8,
      "outputs": [
        {
          "output_type": "stream",
          "name": "stdout",
          "text": [
            "[1, 2, 4, 5]\n"
          ]
        }
      ]
    },
    {
      "cell_type": "code",
      "source": [
        "#9) Access the second element in ['a', 'b', 'c', 'd']\n",
        "\n",
        "lst = ['a', 'b', 'c', 'd']\n",
        "print(lst[1])\n"
      ],
      "metadata": {
        "colab": {
          "base_uri": "https://localhost:8080/"
        },
        "id": "nhXPmDzYJ8l7",
        "outputId": "c2385daa-7c27-4471-d747-7b2a308e4606"
      },
      "execution_count": 9,
      "outputs": [
        {
          "output_type": "stream",
          "name": "stdout",
          "text": [
            "b\n"
          ]
        }
      ]
    },
    {
      "cell_type": "code",
      "source": [
        "#10) Reverse the list [10, 20, 30, 40, 50]\n",
        "lst = [10, 20, 30, 40, 50]\n",
        "lst.reverse()\n",
        "print(lst)\n"
      ],
      "metadata": {
        "colab": {
          "base_uri": "https://localhost:8080/"
        },
        "id": "jD0dbgpwKM_9",
        "outputId": "e7d8c644-c24e-49e3-b279-48470b61029c"
      },
      "execution_count": 10,
      "outputs": [
        {
          "output_type": "stream",
          "name": "stdout",
          "text": [
            "[50, 40, 30, 20, 10]\n"
          ]
        }
      ]
    },
    {
      "cell_type": "code",
      "source": [
        "#11) Create a tuple with elements 100, 200, 300 and print it.\n",
        "t = (100, 200, 300)\n",
        "print(t)\n"
      ],
      "metadata": {
        "colab": {
          "base_uri": "https://localhost:8080/"
        },
        "id": "iW9f6IzkKk8Y",
        "outputId": "25b169d1-09bc-4807-f974-85d91b19a071"
      },
      "execution_count": 11,
      "outputs": [
        {
          "output_type": "stream",
          "name": "stdout",
          "text": [
            "(100, 200, 300)\n"
          ]
        }
      ]
    },
    {
      "cell_type": "code",
      "source": [
        "#12) Access the second-to-last element of ('red', 'green', 'blue', 'yellow')\n",
        "colors = ('red', 'green', 'blue', 'yellow')\n",
        "print(colors[-2])\n"
      ],
      "metadata": {
        "colab": {
          "base_uri": "https://localhost:8080/"
        },
        "id": "G1kfUCRRKqQg",
        "outputId": "66a55736-4d73-4695-dd1d-3c6d19e13882"
      },
      "execution_count": 12,
      "outputs": [
        {
          "output_type": "stream",
          "name": "stdout",
          "text": [
            "blue\n"
          ]
        }
      ]
    },
    {
      "cell_type": "code",
      "source": [
        "#13) Find the minimum number in (10, 20, 5, 15)\n",
        "nums = (10, 20, 5, 15)\n",
        "print(min(nums))\n"
      ],
      "metadata": {
        "colab": {
          "base_uri": "https://localhost:8080/"
        },
        "id": "HKh4KTvuK7RF",
        "outputId": "f6cb98b6-4ed0-4366-d893-b13ceac64a2f"
      },
      "execution_count": 13,
      "outputs": [
        {
          "output_type": "stream",
          "name": "stdout",
          "text": [
            "5\n"
          ]
        }
      ]
    },
    {
      "cell_type": "code",
      "source": [
        "#14) Find the index of \"cat\" in ('dog', 'cat', 'rabbit')\n",
        "animals = ('dog', 'cat', 'rabbit')\n",
        "print(animals.index(\"cat\"))\n"
      ],
      "metadata": {
        "colab": {
          "base_uri": "https://localhost:8080/"
        },
        "id": "id3pzu19LFV3",
        "outputId": "09c6139b-b620-40da-f81e-de014ecfe59d"
      },
      "execution_count": 14,
      "outputs": [
        {
          "output_type": "stream",
          "name": "stdout",
          "text": [
            "1\n"
          ]
        }
      ]
    },
    {
      "cell_type": "code",
      "source": [
        "#15) Create a tuple with 3 fruits and check if \"kiwi\" is in it.\n",
        "fruits = (\"apple\", \"banana\", \"mango\")\n",
        "print(\"kiwi\" in fruits)\n"
      ],
      "metadata": {
        "colab": {
          "base_uri": "https://localhost:8080/"
        },
        "id": "zrUDsWkZLOOw",
        "outputId": "5c3160f3-9152-4e66-c986-1000799e35a9"
      },
      "execution_count": 15,
      "outputs": [
        {
          "output_type": "stream",
          "name": "stdout",
          "text": [
            "False\n"
          ]
        }
      ]
    },
    {
      "cell_type": "code",
      "source": [
        "#16) Create a set with 'a', 'b', 'c' and print it.\n",
        "s = {'a', 'b', 'c'}\n",
        "print(s)\n"
      ],
      "metadata": {
        "colab": {
          "base_uri": "https://localhost:8080/"
        },
        "id": "TZ72Igm_LYnG",
        "outputId": "abfb15fd-0bc7-4971-f9e1-cc766cfb9f1e"
      },
      "execution_count": 16,
      "outputs": [
        {
          "output_type": "stream",
          "name": "stdout",
          "text": [
            "{'b', 'a', 'c'}\n"
          ]
        }
      ]
    },
    {
      "cell_type": "code",
      "source": [
        "#17) Clear all elements from {1, 2, 3, 4, 5}\n",
        "s = {1, 2, 3, 4, 5}\n",
        "s.clear()\n",
        "print(s)\n"
      ],
      "metadata": {
        "colab": {
          "base_uri": "https://localhost:8080/"
        },
        "id": "jVw1tBCcLeq1",
        "outputId": "98e7ca47-001b-42e8-c62f-0352f483df6e"
      },
      "execution_count": 17,
      "outputs": [
        {
          "output_type": "stream",
          "name": "stdout",
          "text": [
            "set()\n"
          ]
        }
      ]
    },
    {
      "cell_type": "code",
      "source": [
        "#18) Remove 4 from {1, 2, 3, 4}\n",
        "s = {1, 2, 3, 4}\n",
        "s.remove(4)\n",
        "print(s)\n"
      ],
      "metadata": {
        "colab": {
          "base_uri": "https://localhost:8080/"
        },
        "id": "pSMPSk6oLnjf",
        "outputId": "fd25befa-e0be-4019-a108-673748598b25"
      },
      "execution_count": 18,
      "outputs": [
        {
          "output_type": "stream",
          "name": "stdout",
          "text": [
            "{1, 2, 3}\n"
          ]
        }
      ]
    },
    {
      "cell_type": "code",
      "source": [
        "#19) Find the union of {1, 2, 3} and {3, 4, 5}\n",
        "a = {1, 2, 3}\n",
        "b = {3, 4, 5}\n",
        "print(a.union(b))\n"
      ],
      "metadata": {
        "colab": {
          "base_uri": "https://localhost:8080/"
        },
        "id": "1R8oBWIvL1cC",
        "outputId": "b652b704-c370-4f1e-cb5f-e6f310605090"
      },
      "execution_count": 19,
      "outputs": [
        {
          "output_type": "stream",
          "name": "stdout",
          "text": [
            "{1, 2, 3, 4, 5}\n"
          ]
        }
      ]
    },
    {
      "cell_type": "code",
      "source": [
        "#20) Find the intersection of {1, 2, 3} and {2, 3, 4}\n",
        "a = {1, 2, 3}\n",
        "b = {2, 3, 4}\n",
        "print(a.intersection(b))\n"
      ],
      "metadata": {
        "colab": {
          "base_uri": "https://localhost:8080/"
        },
        "id": "HcQ_XyYHL-ds",
        "outputId": "917c5cd4-6b3d-4360-d88d-e14dd52158fe"
      },
      "execution_count": 20,
      "outputs": [
        {
          "output_type": "stream",
          "name": "stdout",
          "text": [
            "{2, 3}\n"
          ]
        }
      ]
    },
    {
      "cell_type": "code",
      "source": [
        "#21) Create a dictionary with \"name\", \"age\", \"city\" and print it.\n",
        "person = {\"name\": \"John\", \"age\": 25, \"city\": \"New York\"}\n",
        "print(person)\n"
      ],
      "metadata": {
        "colab": {
          "base_uri": "https://localhost:8080/"
        },
        "id": "44l_Cq9lMKSt",
        "outputId": "02d1ea74-8c39-470f-ec23-c9c903f32e79"
      },
      "execution_count": 21,
      "outputs": [
        {
          "output_type": "stream",
          "name": "stdout",
          "text": [
            "{'name': 'John', 'age': 25, 'city': 'New York'}\n"
          ]
        }
      ]
    },
    {
      "cell_type": "code",
      "source": [
        "#22) Add \"country\": \"USA\" to {'name': 'John', 'age': 25}\n",
        "person = {'name': 'John', 'age': 25}\n",
        "person[\"country\"] = \"USA\"\n",
        "print(person)\n"
      ],
      "metadata": {
        "colab": {
          "base_uri": "https://localhost:8080/"
        },
        "id": "ee2TQ6rqMVUJ",
        "outputId": "6d8c7ce8-e878-4e24-f8f3-dc0cb8bd6623"
      },
      "execution_count": 22,
      "outputs": [
        {
          "output_type": "stream",
          "name": "stdout",
          "text": [
            "{'name': 'John', 'age': 25, 'country': 'USA'}\n"
          ]
        }
      ]
    },
    {
      "cell_type": "code",
      "source": [
        "#23) Access the value of \"name\" in {'name': 'Alice', 'age': 30}\n",
        "person = {'name': 'Alice', 'age': 30}\n",
        "print(person[\"name\"])   # Output: Alice\n"
      ],
      "metadata": {
        "colab": {
          "base_uri": "https://localhost:8080/"
        },
        "id": "bJ7UMPkGMdEq",
        "outputId": "78c94677-d7d3-43f6-9ac7-c20c616850d1"
      },
      "execution_count": 23,
      "outputs": [
        {
          "output_type": "stream",
          "name": "stdout",
          "text": [
            "Alice\n"
          ]
        }
      ]
    },
    {
      "cell_type": "code",
      "source": [
        "#24) Remove \"age\" from {'name': 'Bob', 'age': 22, 'city': 'New York'}\n",
        "person = {'name': 'Bob', 'age': 22, 'city': 'New York'}\n",
        "person.pop(\"age\")\n",
        "print(person)\n"
      ],
      "metadata": {
        "colab": {
          "base_uri": "https://localhost:8080/"
        },
        "id": "Ot78p66vMlkj",
        "outputId": "d736a9de-e9e3-49a8-f12a-4ce1012a989c"
      },
      "execution_count": 24,
      "outputs": [
        {
          "output_type": "stream",
          "name": "stdout",
          "text": [
            "{'name': 'Bob', 'city': 'New York'}\n"
          ]
        }
      ]
    },
    {
      "cell_type": "code",
      "source": [
        "#25) Check if \"city\" exists in {'name': 'Alice', 'city': 'Paris'}\n",
        "person = {'name': 'Alice', 'city': 'Paris'}\n",
        "print(\"city\" in person)\n"
      ],
      "metadata": {
        "colab": {
          "base_uri": "https://localhost:8080/"
        },
        "id": "5Dlaj2mSMz9p",
        "outputId": "472b24f4-4ca2-4174-8aa0-ad6c3a8e14f6"
      },
      "execution_count": 25,
      "outputs": [
        {
          "output_type": "stream",
          "name": "stdout",
          "text": [
            "True\n"
          ]
        }
      ]
    },
    {
      "cell_type": "code",
      "source": [
        "#26) Create a list, a tuple, and a dictionary, and print them\n",
        "lst = [1, 2, 3]\n",
        "t = (10, 20, 30)\n",
        "d = {\"a\": 1, \"b\": 2}\n",
        "print(lst)\n",
        "print(t)\n",
        "print(d)\n"
      ],
      "metadata": {
        "colab": {
          "base_uri": "https://localhost:8080/"
        },
        "id": "QjG3Cw9AM_Ls",
        "outputId": "174482f2-64ec-4d26-e7cf-878fe6316650"
      },
      "execution_count": 26,
      "outputs": [
        {
          "output_type": "stream",
          "name": "stdout",
          "text": [
            "[1, 2, 3]\n",
            "(10, 20, 30)\n",
            "{'a': 1, 'b': 2}\n"
          ]
        }
      ]
    },
    {
      "cell_type": "code",
      "source": [
        "#27) Create a list of 5 random numbers between 1–100, sort ascending, and print\n",
        "import random\n",
        "numbers = random.sample(range(1, 101), 5)\n",
        "numbers.sort()\n",
        "print(numbers)\n"
      ],
      "metadata": {
        "colab": {
          "base_uri": "https://localhost:8080/"
        },
        "id": "WLp53cadNYbm",
        "outputId": "8f6d9a2e-59a1-467c-a606-a0c3474adc78"
      },
      "execution_count": 27,
      "outputs": [
        {
          "output_type": "stream",
          "name": "stdout",
          "text": [
            "[18, 22, 29, 51, 90]\n"
          ]
        }
      ]
    },
    {
      "cell_type": "code",
      "source": [
        "#28) Create a list with strings and print the element at the 3rd index.\n",
        "lst = [\"apple\", \"banana\", \"cherry\", \"date\", \"fig\"]\n",
        "print(lst[3])\n"
      ],
      "metadata": {
        "colab": {
          "base_uri": "https://localhost:8080/"
        },
        "id": "IVHajbO5Nlj3",
        "outputId": "c8133abb-d4c8-451f-b46a-c15094563ca2"
      },
      "execution_count": 28,
      "outputs": [
        {
          "output_type": "stream",
          "name": "stdout",
          "text": [
            "date\n"
          ]
        }
      ]
    },
    {
      "cell_type": "code",
      "source": [
        "#29) Combine two dictionaries and print the result.\n",
        "d1 = {\"a\": 1, \"b\": 2}\n",
        "d2 = {\"c\": 3, \"d\": 4}\n",
        "d1.update(d2)\n",
        "print(d1)\n"
      ],
      "metadata": {
        "colab": {
          "base_uri": "https://localhost:8080/"
        },
        "id": "J3RT8pMeNuyg",
        "outputId": "b66c5e77-21da-4501-c367-05338ecc4114"
      },
      "execution_count": 29,
      "outputs": [
        {
          "output_type": "stream",
          "name": "stdout",
          "text": [
            "{'a': 1, 'b': 2, 'c': 3, 'd': 4}\n"
          ]
        }
      ]
    },
    {
      "cell_type": "code",
      "source": [
        "#30) Convert a list of strings into a set.\n",
        "lst = [\"apple\", \"banana\", \"apple\", \"cherry\"]\n",
        "s = set(lst)\n",
        "print(s)\n"
      ],
      "metadata": {
        "colab": {
          "base_uri": "https://localhost:8080/"
        },
        "id": "aGw_j6oLN9sz",
        "outputId": "425c28d8-3700-44e3-9fe5-a4fa985d5f01"
      },
      "execution_count": 30,
      "outputs": [
        {
          "output_type": "stream",
          "name": "stdout",
          "text": [
            "{'cherry', 'banana', 'apple'}\n"
          ]
        }
      ]
    }
  ]
}