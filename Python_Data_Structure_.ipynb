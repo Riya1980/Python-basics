{
  "nbformat": 4,
  "nbformat_minor": 0,
  "metadata": {
    "colab": {
      "provenance": [],
      "authorship_tag": "ABX9TyMqlKFZHDs8d7UjYjIdaUd/",
      "include_colab_link": true
    },
    "kernelspec": {
      "name": "python3",
      "display_name": "Python 3"
    },
    "language_info": {
      "name": "python"
    }
  },
  "cells": [
    {
      "cell_type": "markdown",
      "metadata": {
        "id": "view-in-github",
        "colab_type": "text"
      },
      "source": [
        "<a href=\"https://colab.research.google.com/github/Riya1980/Python-basics/blob/main/Python_Data_Structure_.ipynb\" target=\"_parent\"><img src=\"https://colab.research.google.com/assets/colab-badge.svg\" alt=\"Open In Colab\"/></a>"
      ]
    },
    {
      "cell_type": "markdown",
      "source": [
        "**Python** **Data** **Structure**\n",
        "\n",
        "\n",
        "1) What are data structures, and why are they important?\n",
        "     - Data structures are ways of organizing and storing data (e.g., list, tuple, set, dict).\n",
        "They are important because they make data access, storage, and processing more efficient.\n",
        "\n",
        "2) Difference between mutable and immutable data types with examples.\n",
        "\n",
        "    -Mutable: can be changed after creation (e.g., list, dict, set).\n",
        "\n",
        "    -Immutable: cannot be changed after creation (e.g., tuple, string, int).\n",
        "     - Example: l = [1,2,3]; l[0]=99   # works\n",
        "\n",
        "                   t = (1,2,3); t[0]=99   # error\n",
        "\n",
        "3) Main differences between lists and tuples in Python.\n",
        "\n",
        "   - List: mutable, slower, more flexible.\n",
        "\n",
        "    - Tuple: immutable, faster, ensures data integrity.  \n",
        "\n",
        "4) How dictionaries store data?\n",
        "\n",
        "   - Dictionaries use a hash table internally, mapping keys (hashed) to memory locations where values are stored.\n",
        "\n",
        "5) Why might you use a set instead of a list?\n",
        "\n",
        "    - Sets automatically remove duplicates.\n",
        "\n",
        "    - Faster membership checking (in).\n",
        "\n",
        "6) What is a string in Python, and how is it different from a list?\n",
        "\n",
        "   - String = sequence of characters, immutable.\n",
        "\n",
        "    - List = sequence of elements, mutable, can hold mixed data types.\n",
        "\n",
        "7) How do tuples ensure data integrity?\n",
        "\n",
        "   - They are immutable, so once created, their values cannot be altered.\n",
        "\n",
        "8) What is a hash table, and how does it relate to dictionaries?\n",
        "\n",
        "   - A hash table stores data using a hash function to map keys → values.\n",
        "   - Dictionaries in Python are implemented using hash tables.\n",
        "\n",
        "9) Can lists contain different data types in Python?\n",
        "\n",
        "   - Yes. Example: [1, \"hello\", 3.14].\n",
        "\n",
        "10) Why are strings immutable in Python?\n",
        "\n",
        "    - To save memory (string interning), ensure consistency, and allow strings to be hashable (usable as dictionary keys).\n",
        "\n",
        "11) Advantages of dictionaries over lists.\n",
        "  \n",
        "    - Direct key-based access (faster lookups).\n",
        "\n",
        "     - No need to search element by index.\n",
        "\n",
        "     - Better for representing mappings/relationships.\n",
        "\n",
        "\n",
        "12) Scenario where using a tuple is preferable over a list.\n",
        "\n",
        "    - When storing data that should not change, like coordinates (x, y) or database IDs.\n",
        "\n",
        "13) How do sets handle duplicate values in Python?\n",
        "\n",
        "    - Sets automatically remove duplicates.\n",
        "\n",
        "    s = {1,2,2,3}\n",
        "     # result: {1,2,3}\n",
        "\n",
        "14) How does the “in” keyword work differently for lists and dictionaries?\n",
        "\n",
        "    - List: checks if element exists in the list.\n",
        "\n",
        "     - Dict: checks if key exists in the dictionary.\n",
        "\n",
        "\n",
        "15) Can you modify the elements of a tuple? Explain why or why not.\n",
        "\n",
        "     - No, tuples are immutable.\n",
        "\n",
        "      -  But if a tuple contains a mutable object (like a list), that inner object can be modified.\n",
        "\n",
        "16) What is a nested dictionary, and example use case?\n",
        "\n",
        "    - A dictionary inside another dictionary.\n",
        "\n",
        "    students = {\"Alice\": {\"age\":20,\"grade\":\"A\"}}\n",
        "\n",
        "    -  Use case: storing structured data (e.g., student records).\n",
        "\n",
        "17) Time complexity of accessing elements in a dictionary.\n",
        "\n",
        "    - O(1) average case, due to hashing.\n",
        "\n",
        "18) In what situations are lists preferred over dictionaries?\n",
        "\n",
        "     - When order matters, or when storing simple sequences without key-value mapping.\n",
        "\n",
        "\n",
        "19) Why are dictionaries considered unordered, and how does that affect data retrieval?\n",
        "\n",
        "     - Traditionally, dictionaries did not guarantee order.\n",
        "      - From Python 3.7+, they preserve insertion order, but retrieval is still key-based, not index-based.\n",
        "\n",
        "20) Difference between a list and a dictionary in terms of data retrieval\n",
        "\n",
        "     - List: elements retrieved by index (position).\n",
        "\n",
        "     - Dict: elements retrieved by key (faster lookup).\n",
        "\n"
      ],
      "metadata": {
        "id": "WcAn9TAq_PpY"
      }
    },
    {
      "cell_type": "markdown",
      "source": [
        "# **Practical questions**:-"
      ],
      "metadata": {
        "id": "RbTDXHGjGTku"
      }
    },
    {
      "cell_type": "code",
      "source": [
        "#1) Create a string with your name and print it.\n",
        "\n",
        "name = \"Riya Chaudhary\"\n",
        "print(name)"
      ],
      "metadata": {
        "colab": {
          "base_uri": "https://localhost:8080/"
        },
        "id": "t-PnRNZkIHyt",
        "outputId": "dad63182-48d0-412c-990e-22770b24ce53"
      },
      "execution_count": null,
      "outputs": [
        {
          "output_type": "stream",
          "name": "stdout",
          "text": [
            "Riya Chaudhary\n"
          ]
        }
      ]
    }
  ]
}